{
 "cells": [
  {
   "cell_type": "code",
   "execution_count": null,
   "id": "431079f5",
   "metadata": {},
   "outputs": [],
   "source": [
    "#importing necessary modules\n",
    "\n",
    "import pandas as pd\n",
    "import matplotlib.pyplot as plt\n",
    "import seaborn as sns"
   ]
  },
  {
   "cell_type": "code",
   "execution_count": null,
   "id": "e0380046",
   "metadata": {},
   "outputs": [],
   "source": [
    "#Creating dataframe from given dataset\n",
    "df = pd.read_csv(\"dailyActivity_merged.csv\")    "
   ]
  },
  {
   "cell_type": "code",
   "execution_count": null,
   "id": "c53ef99a",
   "metadata": {},
   "outputs": [],
   "source": [
    "print(df.shape)     #Checkig the shape of the dataframe\n",
    "df.head()       #Displaying the first 5 rows of the dataframe"
   ]
  },
  {
   "cell_type": "code",
   "execution_count": null,
   "id": "b54efb27",
   "metadata": {},
   "outputs": [],
   "source": [
    "df.sample(10)   #Displaying 10 random rows of the dataframe "
   ]
  },
  {
   "cell_type": "code",
   "execution_count": null,
   "id": "31a5d88e",
   "metadata": {},
   "outputs": [],
   "source": [
    "#Checking for null values --> Data has no null values\n",
    "df.count()"
   ]
  },
  {
   "cell_type": "code",
   "execution_count": null,
   "id": "b304498c",
   "metadata": {},
   "outputs": [],
   "source": [
    "df.info()"
   ]
  },
  {
   "cell_type": "code",
   "execution_count": null,
   "id": "324cdf5d",
   "metadata": {},
   "outputs": [],
   "source": [
    "#Coverting the 'ActivityDate' column to datetime format\n",
    "df['ActivityDate'] = pd.to_datetime(df['ActivityDate'])"
   ]
  },
  {
   "cell_type": "code",
   "execution_count": null,
   "id": "1235d188",
   "metadata": {},
   "outputs": [],
   "source": [
    "df.describe()"
   ]
  },
  {
   "cell_type": "markdown",
   "id": "f9c7c1f3",
   "metadata": {},
   "source": [
    "• The data is recorded from 2016-03-12 to 2016-04-12 <br>\n",
    "• There are multiple users"
   ]
  },
  {
   "cell_type": "code",
   "execution_count": null,
   "id": "b047d409",
   "metadata": {},
   "outputs": [],
   "source": [
    "#Correlation of different features with Target Column (Calories)\n",
    "df.corr()\n"
   ]
  },
  {
   "cell_type": "markdown",
   "id": "5d8c607d",
   "metadata": {},
   "source": [
    "• TrackerDistance and TotalDistance have almost same values and distribution i.e. they behave same or are app. duplicate <br>\n",
    "=> Tracker is highly accurate in accounting the distance\n",
    "\n",
    "• Calories have high corr with :\n",
    "    TotalDistance > TrackerDistance > TotalSteps > VeryActiveMinutes > LightActiveDistance > VeryActiveDistance\n",
    "\n",
    "• Calories have low to negligible corr with :\n",
    "    ActivityDate < SedentaryMinutes < SedentaryActiveMinutes < LoggedActivityDistance \n",
    "\n",
    "• There is huge difference in values of Total/Tracker - Distance and LoggedActivityDistance\n",
    "=> High inaccuracy in manual record entries by user or user does not regularly log his/her activity (many zero values in database)\n",
    "\n",
    "\n",
    "\n"
   ]
  },
  {
   "cell_type": "code",
   "execution_count": null,
   "id": "71bd7d86",
   "metadata": {},
   "outputs": [],
   "source": [
    "#Plotting scatterplots against target column (Calories)\n",
    "\n",
    "skip_cols = ['Id','ActivityDate','Calories']\n",
    "num_cols = [col for col in df.select_dtypes(include='number').columns if col not in skip_cols]\n",
    "\n",
    "for col in num_cols :\n",
    "    plt.figure(figsize=(4,2))\n",
    "    sns.scatterplot(data=df, x='Calories', y=col)\n",
    "    plt.title(f\"BoxPlot of {col} by Calories\")\n",
    "    plt.tight_layout()\n",
    "    plt.show()\n",
    "\n"
   ]
  },
  {
   "cell_type": "markdown",
   "id": "d7bbe83b",
   "metadata": {},
   "source": [
    "**TAKEAWAYs** <br>\n",
    "• Argueably linear relation with TotalSteps with some outliers <br>\n",
    "• Somewhat linear relation with TotalDistance but formation of a large cluster (1000,3000) with noticeable outliers <br>\n",
    "• Argueably linear relation with TrackerDistance with some outliers <br>\n",
    "• Majority values are 0 for LoggedActivityDistance <br>\n",
    "• VeryActiveDistane has many 0 values <br>\n",
    "• ModeratelyActiveDistance has 0s but more scattered values than VeryActiveDistance <br>\n",
    "• LightActiveDistance is highly scattered with argueable linearity <br>\n",
    "• SedentaryActiveDistance is majorly Null <br>\n",
    "• VeryActiveMinutes has many 0 values along with significant number of non zero values throughout the data <br>\n",
    "• ModeratelyActiveMinutes is more scattered than VeryActiveMinutes <br>\n",
    "• LightlyActiveMinutes is well scattered <br>\n",
    "• SedentaryActiveMinutes is well scattered with noticeable outliers <br>"
   ]
  },
  {
   "cell_type": "code",
   "execution_count": null,
   "id": "89509261",
   "metadata": {},
   "outputs": [],
   "source": [
    "sns.boxplot(x=df['VeryActiveMinutes'])"
   ]
  },
  {
   "cell_type": "markdown",
   "id": "28452417",
   "metadata": {},
   "source": [
    "• VeryActiveMinites beyond 75 minutes are outliers "
   ]
  },
  {
   "cell_type": "code",
   "execution_count": null,
   "id": "251bb24e",
   "metadata": {},
   "outputs": [],
   "source": [
    "sns.scatterplot(y=df['TotalSteps'], x= df['TotalDistance'])"
   ]
  },
  {
   "cell_type": "markdown",
   "id": "12749f20",
   "metadata": {},
   "source": [
    "• TotalSteps and TotalDitance have almost linear relation (similar to y = x) with some outliers\n",
    "=> The 2 can be combined into a single feature"
   ]
  },
  {
   "cell_type": "code",
   "execution_count": null,
   "id": "f01bbbbf",
   "metadata": {},
   "outputs": [],
   "source": [
    "#Lineplot of Calories over time\n",
    "plt.figure(figsize=(12, 4))\n",
    "sns.lineplot(x='ActivityDate', y='Calories', data=df)\n",
    "plt.title('Calories Burned Over Time')\n",
    "plt.xlabel('Date')\n",
    "plt.ylabel('Calories')\n",
    "plt.show()\n",
    "\n",
    "#Lineplot shows that multiple users exists"
   ]
  },
  {
   "cell_type": "code",
   "execution_count": null,
   "id": "98401449",
   "metadata": {},
   "outputs": [],
   "source": [
    "df['Id'].nunique()\n",
    "#We have 35 users"
   ]
  },
  {
   "cell_type": "code",
   "execution_count": null,
   "id": "bbfa1606",
   "metadata": {},
   "outputs": [],
   "source": [
    "user_summary = df.groupby('Id').agg({\n",
    "    'Calories': ['mean', 'sum'],\n",
    "    'TotalSteps': ['mean', 'sum'],\n",
    "    'VeryActiveMinutes': ['mean', 'sum'],\n",
    "    'ActivityDate': ['min', 'max', 'count']\n",
    "}).reset_index()"
   ]
  },
  {
   "cell_type": "code",
   "execution_count": null,
   "id": "68017d5b",
   "metadata": {},
   "outputs": [],
   "source": [
    "some_user = df['Id'].unique()[0]  # Pick first user for example\n",
    "\n",
    "user_df = df[df['Id'] == some_user].sort_values('ActivityDate')\n",
    "\n",
    "plt.figure(figsize=(12, 4))\n",
    "sns.lineplot(data=user_df, x='ActivityDate', y='Calories')\n",
    "plt.title(f'Calories Over Time for User {some_user}')\n",
    "plt.show()"
   ]
  },
  {
   "cell_type": "code",
   "execution_count": null,
   "id": "fdb88c4c",
   "metadata": {},
   "outputs": [],
   "source": [
    "#Lineplot of all users calories over time\n",
    "\n",
    "sns.lineplot(data=df, x='ActivityDate', y='Calories', hue='Id', linewidth=0.5)\n",
    "\n",
    "plt.title(\"Calories Burned Over Time (Per User)\")\n",
    "plt.xlabel(\"ActivityDate\")\n",
    "plt.ylabel(\"Calories\")\n",
    "plt.figure(figsize=(28,80))\n",
    "#plt.legend(title='User ID', bbox_to_anchor=(1.05, 1), loc='upper left', ncol=1)\n",
    "plt.tight_layout()\n",
    "plt.show()"
   ]
  },
  {
   "cell_type": "code",
   "execution_count": null,
   "id": "c643913e",
   "metadata": {},
   "outputs": [],
   "source": [
    "#Scatterplot of Total Steps vs Calories per User\n",
    "user_totals = df.groupby('Id')[['Calories', 'TotalSteps']].sum().reset_index()\n",
    "\n",
    "sns.scatterplot(data=user_totals, x='TotalSteps', y='Calories')\n",
    "plt.title(\"Total Steps vs Calories per User\")\n",
    "plt.show()"
   ]
  },
  {
   "cell_type": "markdown",
   "id": "35deac5e",
   "metadata": {},
   "source": [
    "• There is no linearity in Steps vs Calories for different users\n",
    "=> Significant activity difference between two users\n",
    "\n",
    "• Calories burned usually increases for users in range 0 - 100000 steps and remains almost stagnant in range 100000 - 200000 steps. Rest could be considered outliers\n",
    "=> More steps != More calories burned"
   ]
  },
  {
   "cell_type": "code",
   "execution_count": null,
   "id": "708565ef",
   "metadata": {},
   "outputs": [],
   "source": [
    "#Scatterplot of Total Distance vs Calories per User\n",
    "user_totals = df.groupby('Id')[['Calories', 'TotalDistance']].sum().reset_index()\n",
    "\n",
    "sns.scatterplot(data=user_totals, x='TotalDistance', y='Calories')\n",
    "plt.title(\"Total Distance vs Calories per User\")\n",
    "plt.show()"
   ]
  },
  {
   "cell_type": "code",
   "execution_count": null,
   "id": "45c26152",
   "metadata": {},
   "outputs": [],
   "source": [
    "#Scatterplot of Total VeryActiveDistance vs Calories per User\n",
    "user_totals = df.groupby('Id')[['Calories', 'VeryActiveDistance']].sum().reset_index()\n",
    "\n",
    "sns.scatterplot(data=user_totals, x='VeryActiveDistance', y='Calories')\n",
    "plt.title(\"Total Very-Active-Distance vs Calories per User\")\n",
    "plt.show()"
   ]
  },
  {
   "cell_type": "markdown",
   "id": "54c182e6",
   "metadata": {},
   "source": [
    "• Too scattered to make any porper judgement but usually more distance --> more calories burned"
   ]
  },
  {
   "cell_type": "code",
   "execution_count": null,
   "id": "64e54a29",
   "metadata": {},
   "outputs": [],
   "source": [
    "#Scatterplot of Total VeryActiveMinutes vs Calories per User\n",
    "user_totals = df.groupby('Id')[['Calories', 'VeryActiveMinutes']].sum().reset_index()\n",
    "\n",
    "sns.scatterplot(data=user_totals, x='VeryActiveMinutes', y='Calories')\n",
    "plt.title(\"Total Very-Active-Minutes vs Calories per User\")\n",
    "plt.show()"
   ]
  },
  {
   "cell_type": "markdown",
   "id": "aaad02ca",
   "metadata": {},
   "source": [
    "• A more linear relation compared to VeryActiveDistance\n",
    "=> Consistency > Intensity"
   ]
  },
  {
   "cell_type": "code",
   "execution_count": null,
   "id": "978dda44",
   "metadata": {},
   "outputs": [],
   "source": [
    "df['VeryActivityIntensity'] = df['VeryActiveDistance']/df['VeryActiveMinutes']"
   ]
  },
  {
   "cell_type": "code",
   "execution_count": null,
   "id": "bb0c1a85",
   "metadata": {},
   "outputs": [],
   "source": [
    "#Scatterplot of Total VeryActiveIntensity vs Calories per User\n",
    "user_totals = df.groupby('Id')[['Calories', 'VeryActivityIntensity']].sum().reset_index()\n",
    "\n",
    "sns.scatterplot(data=user_totals, x='VeryActivityIntensity', y='Calories')\n",
    "plt.title(\"Total Very-Activity-Intensity vs Calories per User\")\n",
    "plt.show()"
   ]
  },
  {
   "cell_type": "code",
   "execution_count": null,
   "id": "be2b208d",
   "metadata": {},
   "outputs": [],
   "source": [
    "#Scatterplot of Total LightActiveDistance vs Calories per User\n",
    "user_totals = df.groupby('Id')[['Calories', 'LightActiveDistance']].sum().reset_index()\n",
    "\n",
    "sns.scatterplot(data=user_totals, x='LightActiveDistance', y='Calories')\n",
    "plt.title(\"Total Light-Active-Distance vs Calories per User\")\n",
    "plt.show()"
   ]
  },
  {
   "cell_type": "markdown",
   "id": "b3fff283",
   "metadata": {},
   "source": [
    "• Fairly linear relation with some outliers --> Polynomial would be a better fit"
   ]
  },
  {
   "cell_type": "code",
   "execution_count": null,
   "id": "a259d739",
   "metadata": {},
   "outputs": [],
   "source": [
    "#Scatterplot of Total LightActiveMinutes vs Calories per User\n",
    "user_totals = df.groupby('Id')[['Calories', 'LightlyActiveMinutes']].sum().reset_index()\n",
    "\n",
    "sns.scatterplot(data=user_totals, x='LightlyActiveMinutes', y='Calories')\n",
    "plt.title(\"Total Lightly-Active-Minutes vs Calories per User\")\n",
    "plt.show()"
   ]
  },
  {
   "cell_type": "markdown",
   "id": "16f01e74",
   "metadata": {},
   "source": [
    "• Calories burned do increases with increase of LightlyActiveMinutes but relation cannot be termed linear, grouping or clustering seems more viable than linear / polynomial"
   ]
  },
  {
   "cell_type": "code",
   "execution_count": null,
   "id": "1f4a33c6",
   "metadata": {},
   "outputs": [],
   "source": [
    "df['StepsIntensity'] = df['TotalDistance']/df['TotalSteps']"
   ]
  },
  {
   "cell_type": "code",
   "execution_count": null,
   "id": "02781f2b",
   "metadata": {},
   "outputs": [],
   "source": [
    "#Scatterplot of Total StepsIntensity vs Calories per User\n",
    "user_totals = df.groupby('Id')[['Calories', 'StepsIntensity']].sum().reset_index()\n",
    "\n",
    "sns.scatterplot(data=user_totals, x='StepsIntensity', y='Calories')\n",
    "plt.title(\"Steps-Intensity vs Calories per User\")\n",
    "plt.show()"
   ]
  },
  {
   "cell_type": "markdown",
   "id": "8d4bc8d3",
   "metadata": {},
   "source": [
    "• **Greatly linear** relation between calories burned and StepsIntensity"
   ]
  },
  {
   "cell_type": "code",
   "execution_count": null,
   "id": "0c04a577",
   "metadata": {},
   "outputs": [],
   "source": [
    "df['SedentaryIntensity'] = df['SedentaryActiveDistance']/df['SedentaryMinutes']"
   ]
  },
  {
   "cell_type": "code",
   "execution_count": null,
   "id": "809d085e",
   "metadata": {},
   "outputs": [],
   "source": [
    "#Scatterplot of Total Seden vs Calories per User\n",
    "user_totals = df.groupby('Id')[['Calories', 'SedentaryIntensity']].sum().reset_index()\n",
    "\n",
    "sns.scatterplot(data=user_totals, x='SedentaryIntensity', y='Calories')\n",
    "plt.title(\"Total Sedentary-Intensity vs Calories per User\")\n",
    "plt.show()"
   ]
  },
  {
   "cell_type": "code",
   "execution_count": null,
   "id": "082834b5",
   "metadata": {},
   "outputs": [],
   "source": [
    "df['LightActivityIntensity'] = df['LightActiveDistance']/df['LightlyActiveMinutes']"
   ]
  },
  {
   "cell_type": "code",
   "execution_count": null,
   "id": "27b44260",
   "metadata": {},
   "outputs": [],
   "source": [
    "#Scatterplot of Total LightActiveIntensity vs Calories per User\n",
    "user_totals = df.groupby('Id')[['Calories', 'LightActivityIntensity']].sum().reset_index()\n",
    "\n",
    "sns.scatterplot(data=user_totals, x='LightActivityIntensity', y='Calories')\n",
    "plt.title(\"Total Light-Activity-Intensity vs Calories per User\")\n",
    "plt.show()"
   ]
  },
  {
   "cell_type": "code",
   "execution_count": null,
   "id": "dc1c3154",
   "metadata": {},
   "outputs": [],
   "source": [
    "df['ModerateActivityIntensity'] = df['ModeratelyActiveDistance']/df['FairlyActiveMinutes']"
   ]
  },
  {
   "cell_type": "code",
   "execution_count": null,
   "id": "450584f4",
   "metadata": {},
   "outputs": [],
   "source": [
    "#Scatterplot of Total Distance vs Calories per User\n",
    "user_totals = df.groupby('Id')[['Calories', 'ModerateActivityIntensity']].sum().reset_index()\n",
    "\n",
    "sns.scatterplot(data=user_totals, x='ModerateActivityIntensity', y='Calories')\n",
    "plt.title(\"Total Moderate-Activity-Intensity vs Calories per User\")\n",
    "plt.show()"
   ]
  },
  {
   "cell_type": "code",
   "execution_count": null,
   "id": "89c37780",
   "metadata": {},
   "outputs": [],
   "source": [
    "user_summary"
   ]
  },
  {
   "cell_type": "code",
   "execution_count": null,
   "id": "14bbd47f",
   "metadata": {},
   "outputs": [],
   "source": [
    "df.head()"
   ]
  }
 ],
 "metadata": {
  "kernelspec": {
   "display_name": "Python 3",
   "language": "python",
   "name": "python3"
  },
  "language_info": {
   "codemirror_mode": {
    "name": "ipython",
    "version": 3
   },
   "file_extension": ".py",
   "mimetype": "text/x-python",
   "name": "python",
   "nbconvert_exporter": "python",
   "pygments_lexer": "ipython3",
   "version": "3.11.9"
  }
 },
 "nbformat": 4,
 "nbformat_minor": 5
}
